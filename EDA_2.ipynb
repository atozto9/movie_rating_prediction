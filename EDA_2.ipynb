{
 "cells": [
  {
   "cell_type": "code",
   "execution_count": 138,
   "metadata": {},
   "outputs": [],
   "source": [
    "import time\n",
    "import numpy as np\n",
    "\n",
    "from matplotlib import pyplot as plt\n",
    "from collections import Counter\n",
    "from tqdm import tqdm\n",
    "from jamo import hangul_to_jamo\n",
    "\n",
    "from multiprocessing import Pool\n",
    "from itertools import repeat\n",
    "\n",
    "\n",
    "\n",
    "plt.rcParams['font.family'] = 'NanumGothic'"
   ]
  },
  {
   "cell_type": "markdown",
   "metadata": {},
   "source": [
    "# Paths"
   ]
  },
  {
   "cell_type": "code",
   "execution_count": 5,
   "metadata": {},
   "outputs": [],
   "source": [
    "test_data_path = './test_data'\n",
    "\n",
    "train_data_path = './train_data'\n",
    "train_label_path = './train_label'\n",
    "\n",
    "valid_data_path = './valid_data'\n",
    "valid_label_path = './valid_label'"
   ]
  },
  {
   "cell_type": "markdown",
   "metadata": {},
   "source": [
    "# Data (text)\n",
    "\n",
    "- Phoneme 종류 및 count\n",
    "- Char 종류 및 count"
   ]
  },
  {
   "cell_type": "code",
   "execution_count": 36,
   "metadata": {},
   "outputs": [],
   "source": [
    "def load_data(path):\n",
    "    with open(path, 'r') as f:\n",
    "            data = f.readlines()\n",
    "            \n",
    "    return [x.strip() for x in data]\n",
    "\n",
    "# for multiprocessing\n",
    "def split_data(n, data):\n",
    "    return [data[i:i + int(len(data) / n) + 1] for i in range(0, len(data), int(len(data) / n) + 1)]\n",
    "\n",
    "\n",
    "# sentence to char\n",
    "def to_jamo(data, use_counter=False):\n",
    "    if use_counter:\n",
    "        analysis_result = Counter()\n",
    "    else:\n",
    "        analysis_result = set()\n",
    "    \n",
    "    for x in tqdm(data):\n",
    "        analysis_result.update(hangul_to_jamo(x))\n",
    "        \n",
    "    return analysis_result\n",
    "\n",
    "def text_to_char(data, n=16, use_counter=False):\n",
    "    splited_data = split_data(n,data)\n",
    "    \n",
    "    with Pool(n) as p:\n",
    "        results = p.starmap(to_jamo, zip(splited_data, repeat(use_counter)))\n",
    "\n",
    "    if use_counter:\n",
    "        return sum(results, Counter())\n",
    "    else:\n",
    "        return set(set.union(*results))\n",
    "\n",
    "def draw_hist(counted_data, s_idx=0, e_idx=100, vline_y=None):\n",
    "    plt.figure(figsize=(15, 3))\n",
    "    plt.plot([x[1] for x in counted_data.most_common()][s_idx:e_idx])\n",
    "    plt.xticks(range(e_idx-s_idx), [x[0] for x in counted_data.most_common()][s_idx:e_idx])\n",
    "    \n",
    "    if vline_y:\n",
    "        plt.axvline(x=vline_y, color='r', linewidth=1)\n",
    "    \n",
    "    plt.show()"
   ]
  },
  {
   "cell_type": "code",
   "execution_count": 22,
   "metadata": {},
   "outputs": [],
   "source": [
    "train_data = load_data(train_data_path)\n",
    "valid_data = load_data(valid_data_path)\n",
    "test_data = load_data(test_data_path)"
   ]
  },
  {
   "cell_type": "code",
   "execution_count": 16,
   "metadata": {
    "scrolled": true
   },
   "outputs": [
    {
     "name": "stdout",
     "output_type": "stream",
     "text": [
      "['배경음 love theme의 감동적인 선율과 영사기에서 나오는 달콤한 키스 장면들을 보며 토토의 회상에 젖은듯한 애잔한 표정 지금도 잊을수가 없다.', '불멸의 명작. 영화인을 꿈꾸는 사람이라면 반드시 봐야할 영화', '탄탄한 스토리와 거장 엔니오 모리꼬네가 만들어낸 최고의 영화. 몇번을 봐도 마지막장면에선 항상 토토와 함께 눈물을 흘린다. 우정, 사랑, 추억이 어우러져 가슴을 절로 아련하게 만든다. 숨은 이야기가 담긴 감독판으로 재상영 했으면 하는 바람이..']\n"
     ]
    }
   ],
   "source": [
    "print(train_data[:3])"
   ]
  },
  {
   "cell_type": "markdown",
   "metadata": {},
   "source": [
    "phoneme"
   ]
  },
  {
   "cell_type": "code",
   "execution_count": 10,
   "metadata": {},
   "outputs": [
    {
     "data": {
      "image/png": "[encoded data removed]",
      "text/plain": [
       "<Figure size 1080x216 with 1 Axes>"
      ]
     },
     "metadata": {
      "needs_background": "light"
     },
     "output_type": "display_data"
    }
   ],
   "source": [
    "phoneme_counter = Counter()\n",
    "\n",
    "for x in train_data:\n",
    "    phoneme_counter.update(list(x))\n",
    "    \n",
    "plt.figure(figsize=(15, 3))\n",
    "plt.plot([x[1] for x in phoneme_counter.most_common()][:100])\n",
    "plt.xticks(range(len(phoneme_counter))[:100], [x[0] for x in phoneme_counter.most_common()][:100], )\n",
    "plt.show()"
   ]
  },
  {
   "cell_type": "code",
   "execution_count": 14,
   "metadata": {},
   "outputs": [
    {
     "name": "stdout",
     "output_type": "stream",
     "text": [
      "[(' ', 54627506), ('.', 12910930), ('이', 7052368), ('다', 6252271), ('는', 4996134), ('고', 4221539), ('화', 3948331), ('영', 3922076), ('지', 3750771), ('하', 3062680), ('가', 2952665), ('!', 2903057), ('요', 2691938), ('아', 2585186), ('도', 2538379), ('에', 2476184), ('기', 2453786), ('만', 2372133), ('보', 2364775), ('어', 2355695), ('한', 2329302), ('나', 2216008), ('재', 2206124), ('ㅋ', 2123025), ('니', 1967048), ('의', 1954202), ('은', 1905219), ('게', 1830128), ('리', 1788252), ('서', 1746053), ('을', 1677867), ('로', 1657217), ('있', 1615807), ('들', 1615523), ('그', 1528221), ('정', 1442170), ('인', 1415972), ('무', 1414553), ('미', 1413447), ('대', 1375294), ('스', 1369465), ('데', 1358930), ('라', 1340158), ('~', 1338240), ('시', 1317098), ('음', 1285991), ('말', 1251365), (',', 1198279), ('감', 1189355), ('면', 1172917)]\n"
     ]
    }
   ],
   "source": [
    "print(char_counter.most_common()[:50])"
   ]
  },
  {
   "cell_type": "markdown",
   "metadata": {},
   "source": [
    "character"
   ]
  },
  {
   "cell_type": "code",
   "execution_count": 20,
   "metadata": {},
   "outputs": [],
   "source": [
    "num_workers = 16"
   ]
  },
  {
   "cell_type": "code",
   "execution_count": 39,
   "metadata": {
    "collapsed": true
   },
   "outputs": [
    {
     "name": "stderr",
     "output_type": "stream",
     "text": [
      "100%|██████████| 626/626 [00:00<00:00, 17690.93it/s]\n",
      "100%|██████████| 626/626 [00:00<00:00, 17172.79it/s]\n",
      "100%|██████████| 610/610 [00:00<00:00, 22024.17it/s]\n",
      "\n",
      "100%|██████████| 626/626 [00:00<00:00, 15553.23it/s]\n",
      "100%|██████████| 626/626 [00:00<00:00, 16426.02it/s]\n",
      "100%|██████████| 626/626 [00:00<00:00, 14226.30it/s]\n",
      "\n",
      "100%|██████████| 626/626 [00:00<00:00, 16994.95it/s]\n",
      "100%|██████████| 626/626 [00:00<00:00, 14233.39it/s]\n",
      "\n",
      "100%|██████████| 626/626 [00:00<00:00, 12135.15it/s]\n",
      "\n",
      "100%|██████████| 626/626 [00:00<00:00, 11194.97it/s]\n",
      "100%|██████████| 626/626 [00:00<00:00, 14174.46it/s]\n",
      "\n"
     ]
    }
   ],
   "source": [
    "counted_char_valid_data = text_to_char(valid_data, n=num_workers, use_counter=True)"
   ]
  },
  {
   "cell_type": "code",
   "execution_count": 40,
   "metadata": {},
   "outputs": [
    {
     "data": {
      "image/png": "[encoded data removed]",
      "text/plain": [
       "<Figure size 1080x216 with 1 Axes>"
      ]
     },
     "metadata": {
      "needs_background": "light"
     },
     "output_type": "display_data"
    }
   ],
   "source": [
    "# valid\n",
    "draw_hist(counted_char_valid_data)"
   ]
  },
  {
   "cell_type": "code",
   "execution_count": 37,
   "metadata": {
    "collapsed": true
   },
   "outputs": [
    {
     "name": "stderr",
     "output_type": "stream",
     "text": [
      "100%|██████████| 562501/562501 [00:19<00:00, 29116.06it/s]\n",
      "100%|██████████| 562501/562501 [00:21<00:00, 26457.82it/s]\n",
      "100%|██████████| 562501/562501 [00:21<00:00, 26636.71it/s]\n",
      "100%|██████████| 562501/562501 [00:21<00:00, 26046.40it/s]\n",
      "100%|██████████| 562501/562501 [00:21<00:00, 26070.93it/s]\n",
      " 95%|█████████▌| 534569/562501 [00:21<00:00, 32428.19it/s]\n",
      "100%|██████████| 562501/562501 [00:23<00:00, 24243.19it/s]\n",
      "100%|██████████| 562501/562501 [00:21<00:00, 25645.66it/s]\n",
      "100%|██████████| 562501/562501 [00:22<00:00, 24934.22it/s]\n",
      "100%|██████████| 562501/562501 [00:26<00:00, 21192.27it/s]\n",
      "100%|██████████| 562501/562501 [00:26<00:00, 21126.69it/s]\n",
      "100%|██████████| 562501/562501 [00:26<00:00, 21097.45it/s]\n",
      "100%|██████████| 562501/562501 [00:27<00:00, 20402.38it/s]\n",
      "100%|██████████| 562501/562501 [00:28<00:00, 19880.79it/s]\n",
      "100%|██████████| 562501/562501 [00:27<00:00, 20485.71it/s]\n",
      "100%|██████████| 562485/562485 [00:28<00:00, 19874.95it/s]\n"
     ]
    }
   ],
   "source": [
    "counted_char_train_data = text_to_char(train_data, n=num_workers, use_counter=True)"
   ]
  },
  {
   "cell_type": "code",
   "execution_count": 38,
   "metadata": {},
   "outputs": [
    {
     "data": {
      "image/png": "[encoded data removed]",
      "text/plain": [
       "<Figure size 1080x216 with 1 Axes>"
      ]
     },
     "metadata": {
      "needs_background": "light"
     },
     "output_type": "display_data"
    }
   ],
   "source": [
    "# train_data\n",
    "\n",
    "draw_hist(counted_char_train_data)"
   ]
  },
  {
   "cell_type": "code",
   "execution_count": 50,
   "metadata": {
    "scrolled": true
   },
   "outputs": [
    {
     "data": {
      "image/png": "[encoded data removed]",
      "text/plain": [
       "<Figure size 1080x216 with 1 Axes>"
      ]
     },
     "metadata": {
      "needs_background": "light"
     },
     "output_type": "display_data"
    }
   ],
   "source": [
    "# 160\n",
    "draw_hist(counted_char_train_data, s_idx=100, e_idx=200, vline_y=60)"
   ]
  },
  {
   "cell_type": "markdown",
   "metadata": {},
   "source": [
    "length"
   ]
  },
  {
   "cell_type": "code",
   "execution_count": 58,
   "metadata": {},
   "outputs": [],
   "source": [
    "len_train_data = [len(x) for x in train_data]\n",
    "len_valid_data = [len(x) for x in valid_data]\n",
    "len_test_data = [len(x) for x in test_data]"
   ]
  },
  {
   "cell_type": "code",
   "execution_count": 62,
   "metadata": {},
   "outputs": [
    {
     "data": {
      "image/png": "[encoded data removed]",
      "text/plain": [
       "<Figure size 432x288 with 1 Axes>"
      ]
     },
     "metadata": {
      "needs_background": "light"
     },
     "output_type": "display_data"
    }
   ],
   "source": [
    "plt.hist(len_valid_data, bins=100)\n",
    "plt.show()"
   ]
  },
  {
   "cell_type": "code",
   "execution_count": 63,
   "metadata": {
    "scrolled": true
   },
   "outputs": [
    {
     "data": {
      "image/png": "[encoded data removed]",
      "text/plain": [
       "<Figure size 432x288 with 1 Axes>"
      ]
     },
     "metadata": {
      "needs_background": "light"
     },
     "output_type": "display_data"
    }
   ],
   "source": [
    "plt.hist(len_test_data, bins=100)\n",
    "plt.show()"
   ]
  },
  {
   "cell_type": "markdown",
   "metadata": {},
   "source": [
    "# Data (label)"
   ]
  },
  {
   "cell_type": "code",
   "execution_count": 161,
   "metadata": {},
   "outputs": [],
   "source": [
    "valid_label = load_data(valid_label_path)"
   ]
  },
  {
   "cell_type": "code",
   "execution_count": 42,
   "metadata": {},
   "outputs": [],
   "source": [
    "train_label = load_data(train_label_path)\n",
    "\n",
    "counted_train_label = Counter(train_label)"
   ]
  },
  {
   "cell_type": "code",
   "execution_count": 48,
   "metadata": {},
   "outputs": [
    {
     "name": "stdout",
     "output_type": "stream",
     "text": [
      "Counter({'10': 4597069, '9': 982114, '1': 919251, '8': 868355, '7': 538344, '6': 367265, '5': 281436, '4': 164124, '3': 143429, '2': 138613})\n"
     ]
    }
   ],
   "source": [
    "print(counted_train_label)"
   ]
  },
  {
   "cell_type": "code",
   "execution_count": 51,
   "metadata": {},
   "outputs": [
    {
     "data": {
      "image/png": "[encoded data removed]",
      "text/plain": [
       "<Figure size 432x288 with 1 Axes>"
      ]
     },
     "metadata": {
      "needs_background": "light"
     },
     "output_type": "display_data"
    }
   ],
   "source": [
    "plt.plot([counted_train_label[str(x)]/sum(counted_train_label.values()) for x in range(1, 11)])\n",
    "plt.show()"
   ]
  },
  {
   "cell_type": "code",
   "execution_count": 165,
   "metadata": {
    "scrolled": true
   },
   "outputs": [
    {
     "data": {
      "image/png": "[encoded data removed]",
      "text/plain": [
       "<Figure size 432x288 with 1 Axes>"
      ]
     },
     "metadata": {
      "needs_background": "light"
     },
     "output_type": "display_data"
    }
   ],
   "source": [
    "counted_valid_label = Counter(valid_label)\n",
    "\n",
    "plt.plot([counted_valid_label[str(x)]/sum(counted_valid_label.values()) for x in range(1, 11)])\n",
    "plt.show()"
   ]
  },
  {
   "cell_type": "code",
   "execution_count": 167,
   "metadata": {},
   "outputs": [
    {
     "data": {
      "text/plain": [
       "Counter({'9': 666,\n",
       "         '10': 7719,\n",
       "         '8': 324,\n",
       "         '6': 164,\n",
       "         '7': 249,\n",
       "         '3': 65,\n",
       "         '1': 533,\n",
       "         '2': 72,\n",
       "         '5': 136,\n",
       "         '4': 72})"
      ]
     },
     "execution_count": 167,
     "metadata": {},
     "output_type": "execute_result"
    }
   ],
   "source": [
    "counted_valid_label"
   ]
  },
  {
   "cell_type": "code",
   "execution_count": 166,
   "metadata": {},
   "outputs": [
    {
     "data": {
      "text/plain": [
       "[0.0533,\n",
       " 0.0072,\n",
       " 0.0065,\n",
       " 0.0072,\n",
       " 0.0136,\n",
       " 0.0164,\n",
       " 0.0249,\n",
       " 0.0324,\n",
       " 0.0666,\n",
       " 0.7719]"
      ]
     },
     "execution_count": 166,
     "metadata": {},
     "output_type": "execute_result"
    }
   ],
   "source": [
    "[counted_valid_label[str(x)]/sum(counted_valid_label.values()) for x in range(1, 11)]"
   ]
  },
  {
   "cell_type": "markdown",
   "metadata": {},
   "source": [
    "# data filtering"
   ]
  },
  {
   "cell_type": "code",
   "execution_count": 156,
   "metadata": {},
   "outputs": [],
   "source": [
    "filtered_data = []\n",
    "filtered_label = []\n",
    "\n",
    "for i, length in enumerate(len_train_data):\n",
    "    if length > 0 and length < 100:\n",
    "        filtered_data.append(train_data[i])\n",
    "        filtered_label.append(train_label[i])"
   ]
  },
  {
   "cell_type": "code",
   "execution_count": 73,
   "metadata": {},
   "outputs": [
    {
     "data": {
      "text/plain": [
       "[82, 33, 136, 33, 34, 119, 50, 136, 17, 108]"
      ]
     },
     "execution_count": 73,
     "metadata": {},
     "output_type": "execute_result"
    }
   ],
   "source": [
    "len_train_data[:10]"
   ]
  },
  {
   "cell_type": "code",
   "execution_count": 158,
   "metadata": {},
   "outputs": [
    {
     "name": "stdout",
     "output_type": "stream",
     "text": [
      "['배경음 love theme의 감동적인 선율과 영사기에서 나오는 달콤한 키스 장면들을 보며 토토의 회상에 젖은듯한 애잔한 표정 지금도 잊을수가 없다.', '불멸의 명작. 영화인을 꿈꾸는 사람이라면 반드시 봐야할 영화', '20년이 훨씬 지났지만 아직도 생각하면 가슴이 벅차네요...', '오랜만에 다시 보아도 너무 예쁘고 사랑스런 눈물나게 하는 영화', '아 근데 재개봉 버전 뭐이렇게 삭제된 장면이 많냐;; 후반 엘레나 시퀀스는 통째로 삭제됐네', '삶의 모든 것이 들어있었다 ㅠㅠ', '신촌cgv에서 예전시네마천국  기대했는데   너무영화가  뚝뚝 끊어지냉 ㄴ누가  편집했는지  몰라도   영화  망쳐났냉   너무티나게  짤랐냉    ...', '살바토레와 알프레도의 케미는 가히 역대급이다... 명작의 가치는 역시 시대를 초월한다', '아주  먼  훗날, 이제  더는  흘릴  눈물이 남아 있을 것 같지  않을 그 날에도 조용히 마른 가슴을 적셔줄 영화...', 'ost만 들어도 눈물나는 영화']\n",
      "['10', '9', '10', '10', '10', '10', '6', '9', '10', '10']\n"
     ]
    }
   ],
   "source": [
    "print(filtered_data[:10])\n",
    "print(filtered_data[:10])"
   ]
  },
  {
   "cell_type": "code",
   "execution_count": 94,
   "metadata": {},
   "outputs": [
    {
     "data": {
      "text/plain": [
       "[0, 10, 20, 30, 40, 50, 60, 70, 80, 90, 100, 110, 120, 130]"
      ]
     },
     "execution_count": 94,
     "metadata": {},
     "output_type": "execute_result"
    }
   ],
   "source": [
    "list(range(0,140,10))"
   ]
  },
  {
   "cell_type": "code",
   "execution_count": 157,
   "metadata": {},
   "outputs": [],
   "source": [
    "with open('filtered_train_data', 'w') as f:\n",
    "    f.writelines('\\n'.join(filtered_data))\n",
    "    \n",
    "with open('filtered_train_label', 'w') as f:\n",
    "    f.writelines('\\n'.join(filtered_label))"
   ]
  },
  {
   "cell_type": "code",
   "execution_count": null,
   "metadata": {},
   "outputs": [],
   "source": []
  },
  {
   "cell_type": "code",
   "execution_count": 162,
   "metadata": {},
   "outputs": [],
   "source": [
    "filtered_data = []\n",
    "filtered_label = []\n",
    "\n",
    "for i, length in enumerate(len_valid_data):\n",
    "    if length > 0:\n",
    "        filtered_data.append(valid_data[i])\n",
    "        filtered_label.append(valid_label[i])\n",
    "        \n",
    "with open('filtered_valid_data', 'w') as f:\n",
    "    f.writelines('\\n'.join(filtered_data))\n",
    "    \n",
    "with open('filtered_valid_label', 'w') as f:\n",
    "    f.writelines('\\n'.join(filtered_label))"
   ]
  },
  {
   "cell_type": "markdown",
   "metadata": {},
   "source": [
    "# lenght analysis"
   ]
  },
  {
   "cell_type": "code",
   "execution_count": 124,
   "metadata": {},
   "outputs": [],
   "source": [
    "sorted_len_and_label = sorted(zip(len_train_data, [int(x) for x in train_label]))"
   ]
  },
  {
   "cell_type": "code",
   "execution_count": 125,
   "metadata": {},
   "outputs": [
    {
     "data": {
      "text/plain": [
       "(0, 1)"
      ]
     },
     "execution_count": 125,
     "metadata": {},
     "output_type": "execute_result"
    }
   ],
   "source": [
    "sorted_len_and_label[0]"
   ]
  },
  {
   "cell_type": "code",
   "execution_count": 126,
   "metadata": {},
   "outputs": [
    {
     "data": {
      "text/plain": [
       "742690"
      ]
     },
     "execution_count": 126,
     "metadata": {},
     "output_type": "execute_result"
    }
   ],
   "source": [
    "sorted_len_and_label.index((10, 1))"
   ]
  },
  {
   "cell_type": "code",
   "execution_count": 129,
   "metadata": {},
   "outputs": [
    {
     "data": {
      "text/plain": [
       "(10, 1)"
      ]
     },
     "execution_count": 129,
     "metadata": {},
     "output_type": "execute_result"
    }
   ],
   "source": [
    "sorted_len_and_label[742690]"
   ]
  },
  {
   "cell_type": "code",
   "execution_count": 139,
   "metadata": {},
   "outputs": [],
   "source": [
    "tmp = []\n",
    "\n",
    "for x in range(0,140,10):\n",
    "    for i in range(1, 11):\n",
    "        if (x, i) in sorted_len_and_label:\n",
    "            s_idx = sorted_len_and_label.index((x, i))\n",
    "            break\n",
    "    \n",
    "    for i in range(1, 11):\n",
    "        if (x+10, i) in sorted_len_and_label:\n",
    "            e_idx = sorted_len_and_label.index((x+10, i))-1\n",
    "            break\n",
    "            \n",
    "    tmp.append(Counter([label for length, label in sorted_len_and_label[s_idx:e_idx+1]]))"
   ]
  },
  {
   "cell_type": "code",
   "execution_count": 146,
   "metadata": {},
   "outputs": [
    {
     "data": {
      "image/png": "[encoded data removed]",
      "text/plain": [
       "<Figure size 432x288 with 1 Axes>"
      ]
     },
     "metadata": {
      "needs_background": "light"
     },
     "output_type": "display_data"
    }
   ],
   "source": [
    "prev = np.asarray([0]*14)\n",
    "for j in range(1, 11):\n",
    "    plt.bar(range(14), [tmp[i][j] for i in range(len(tmp))], 0.7, bottom=prev)\n",
    "    prev = prev + np.asarray([tmp[i][j] for i in range(len(tmp))])"
   ]
  },
  {
   "cell_type": "code",
   "execution_count": 152,
   "metadata": {},
   "outputs": [
    {
     "data": {
      "text/plain": [
       "742690"
      ]
     },
     "execution_count": 152,
     "metadata": {},
     "output_type": "execute_result"
    },
    {
     "data": {
      "image/png": "[encoded data removed]",
      "text/plain": [
       "<Figure size 432x288 with 1 Axes>"
      ]
     },
     "metadata": {
      "needs_background": "light"
     },
     "output_type": "display_data"
    }
   ],
   "source": [
    "# scaled\n",
    "\n",
    "prev = np.asarray([0]*14)\n",
    "for j in range(1, 11):\n",
    "    plt.bar(range(14), [tmp[i][j]/sum(tmp[i].values()) for i in range(len(tmp))], 0.7, bottom=prev)\n",
    "    prev = prev + np.asarray([tmp[i][j]/sum(tmp[i].values()) for i in range(len(tmp))])\n",
    "\n",
    "sum(tmp[0].values())"
   ]
  },
  {
   "cell_type": "code",
   "execution_count": 153,
   "metadata": {},
   "outputs": [],
   "source": [
    "f_label = []\n",
    "\n",
    "for i, length in enumerate(len_train_data):\n",
    "    if length == 0:\n",
    "        f_label.append(train_label[i])"
   ]
  },
  {
   "cell_type": "code",
   "execution_count": 154,
   "metadata": {},
   "outputs": [
    {
     "data": {
      "text/plain": [
       "(array([ 44., 193.,   0.,  18.,   0.,   7.,  13.,   0.,   2.,   5.]),\n",
       " array([0. , 0.6, 1.2, 1.8, 2.4, 3. , 3.6, 4.2, 4.8, 5.4, 6. ]),\n",
       " <a list of 10 Patch objects>)"
      ]
     },
     "execution_count": 154,
     "metadata": {},
     "output_type": "execute_result"
    },
    {
     "data": {
      "image/png": "[encoded data removed]",
      "text/plain": [
       "<Figure size 432x288 with 1 Axes>"
      ]
     },
     "metadata": {
      "needs_background": "light"
     },
     "output_type": "display_data"
    }
   ],
   "source": [
    "plt.hist(f_label)"
   ]
  },
  {
   "cell_type": "code",
   "execution_count": 155,
   "metadata": {},
   "outputs": [
    {
     "data": {
      "text/plain": [
       "(array([13567., 92173.,  7412., 17798., 12445.,  1878.,  3854.,  4721.,\n",
       "         2164.,  1854.]),\n",
       " array([0. , 0.9, 1.8, 2.7, 3.6, 4.5, 5.4, 6.3, 7.2, 8.1, 9. ]),\n",
       " <a list of 10 Patch objects>)"
      ]
     },
     "execution_count": 155,
     "metadata": {},
     "output_type": "execute_result"
    },
    {
     "data": {
      "image/png": "[encoded data removed]",
      "text/plain": [
       "<Figure size 432x288 with 1 Axes>"
      ]
     },
     "metadata": {
      "needs_background": "light"
     },
     "output_type": "display_data"
    }
   ],
   "source": [
    "f_label = []\n",
    "\n",
    "for i, length in enumerate(len_train_data):\n",
    "    if length == 10:\n",
    "        f_label.append(train_label[i])\n",
    "plt.hist(f_label)"
   ]
  },
  {
   "cell_type": "code",
   "execution_count": null,
   "metadata": {},
   "outputs": [],
   "source": []
  }
 ],
 "metadata": {
  "kernelspec": {
   "display_name": "glow-tts",
   "language": "python",
   "name": "glowtts"
  },
  "language_info": {
   "codemirror_mode": {
    "name": "ipython",
    "version": 3
   },
   "file_extension": ".py",
   "mimetype": "text/x-python",
   "name": "python",
   "nbconvert_exporter": "python",
   "pygments_lexer": "ipython3",
   "version": "3.6.9"
  }
 },
 "nbformat": 4,
 "nbformat_minor": 2
}
