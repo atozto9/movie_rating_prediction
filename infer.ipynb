{
 "cells": [
  {
   "cell_type": "code",
   "execution_count": 1,
   "metadata": {},
   "outputs": [
    {
     "name": "stdout",
     "output_type": "stream",
     "text": [
      "/home/choiwh/hs/mrp\n"
     ]
    }
   ],
   "source": [
    "cd mrp"
   ]
  },
  {
   "cell_type": "code",
   "execution_count": 2,
   "metadata": {},
   "outputs": [],
   "source": [
    "import models\n",
    "import text\n",
    "import mrdataset\n",
    "\n",
    "import torch\n",
    "from torch.utils.data import DataLoader\n",
    "from matplotlib import pyplot as plt\n",
    "from collections import Counter\n",
    "\n",
    "from tqdm import tqdm"
   ]
  },
  {
   "cell_type": "code",
   "execution_count": 3,
   "metadata": {},
   "outputs": [],
   "source": [
    "text_converter = text.KoreanText(symbol_from_data=False)"
   ]
  },
  {
   "cell_type": "code",
   "execution_count": 4,
   "metadata": {},
   "outputs": [],
   "source": [
    "import os\n",
    "os.environ[\"CUDA_VISIBLE_DEVCIES\"]=\"0\""
   ]
  },
  {
   "cell_type": "code",
   "execution_count": 26,
   "metadata": {
    "scrolled": true
   },
   "outputs": [
    {
     "data": {
      "text/plain": [
       "MovieRatingModel(\n",
       "  (embedding): Embedding(163, 128)\n",
       "  (blstm): LSTM(128, 128, num_layers=2, batch_first=True, dropout=0.2, bidirectional=True)\n",
       "  (fc_1): Linear(in_features=256, out_features=128, bias=True)\n",
       "  (attn): Linear(in_features=128, out_features=128, bias=True)\n",
       "  (attn_w): Linear(in_features=128, out_features=128, bias=True)\n",
       "  (fc): Linear(in_features=128, out_features=10, bias=True)\n",
       ")"
      ]
     },
     "execution_count": 26,
     "metadata": {},
     "output_type": "execute_result"
    }
   ],
   "source": [
    "device = 'cuda'\n",
    "\n",
    "model = models.MovieRatingModel(symbol_size=len(text_converter.phonemes_list)).to(device)\n",
    "model.load_state_dict(torch.load('./0epoch'))\n",
    "model.eval()"
   ]
  },
  {
   "cell_type": "code",
   "execution_count": 6,
   "metadata": {},
   "outputs": [
    {
     "data": {
      "text/plain": [
       "[85, 93, 117, 76, 99, 134, 92, 93, 83, 98, 85, 105]"
      ]
     },
     "execution_count": 6,
     "metadata": {},
     "output_type": "execute_result"
    }
   ],
   "source": [
    "text_converter.text_to_idx(\"안녕하세요\")"
   ]
  },
  {
   "cell_type": "code",
   "execution_count": 7,
   "metadata": {},
   "outputs": [],
   "source": [
    "input_text = text_converter.text_to_idx(\"언제적영화냐 그만하자ㅋㅋ모야이건\")"
   ]
  },
  {
   "cell_type": "code",
   "execution_count": 8,
   "metadata": {},
   "outputs": [
    {
     "name": "stdout",
     "output_type": "stream",
     "text": [
      "tensor([[-0.1168, -1.7494, -1.5775, -1.5531, -0.9207, -0.9455, -0.6446, -0.3199,\n",
      "         -0.2022,  1.3836]], device='cuda:0', grad_fn=<AddmmBackward>)\n"
     ]
    }
   ],
   "source": [
    "input_text = torch.nn.utils.rnn.pad_sequence(torch.LongTensor([input_text]), batch_first=True).to(device)\n",
    "\n",
    "print(model(input_text, torch.LongTensor([len(input_text)]).to(device)))"
   ]
  },
  {
   "cell_type": "code",
   "execution_count": 9,
   "metadata": {},
   "outputs": [
    {
     "name": "stdout",
     "output_type": "stream",
     "text": [
      "tensor([9], device='cuda:0')\n"
     ]
    }
   ],
   "source": [
    "print(model(input_text, torch.LongTensor([len(input_text)])).argmax(1))"
   ]
  },
  {
   "cell_type": "markdown",
   "metadata": {},
   "source": [
    "---"
   ]
  },
  {
   "cell_type": "code",
   "execution_count": 9,
   "metadata": {},
   "outputs": [],
   "source": [
    "valid_dataset = mrdataset.MovieRateDataset(text_path='../valid_data', label_path='../valid_label')\n",
    "valid_dataloader = DataLoader(valid_dataset, batch_size=1024, collate_fn=valid_dataset.collate_batch)"
   ]
  },
  {
   "cell_type": "code",
   "execution_count": 10,
   "metadata": {},
   "outputs": [],
   "source": [
    "model.eval()\n",
    "total_acc, total_count = 0, 0\n",
    "\n",
    "outputs = []\n",
    "\n",
    "c = 0\n",
    "with torch.no_grad():\n",
    "    for i, (label, text, input_len) in enumerate(valid_dataloader):\n",
    "        label = label.to(device)\n",
    "        text = text.to(device)\n",
    "        input_len = input_len.to(device)\n",
    "\n",
    "        predited_label = model(text, input_len)\n",
    "\n",
    "        outputs.append(predited_label.argmax(1))\n",
    "        total_acc += (predited_label.argmax(1) == label).sum().item()\n",
    "\n",
    "        total_count += label.size(0)\n",
    "        \n",
    "    outputs = torch.cat(outputs)"
   ]
  },
  {
   "cell_type": "code",
   "execution_count": 11,
   "metadata": {
    "scrolled": false
   },
   "outputs": [
    {
     "data": {
      "text/plain": [
       "(array([7.130e+02, 4.000e+00, 2.000e+00, 1.000e+00, 6.000e+00, 1.290e+02,\n",
       "        1.670e+02, 1.460e+02, 2.000e+01, 8.812e+03]),\n",
       " array([0. , 0.9, 1.8, 2.7, 3.6, 4.5, 5.4, 6.3, 7.2, 8.1, 9. ]),\n",
       " <a list of 10 Patch objects>)"
      ]
     },
     "execution_count": 11,
     "metadata": {},
     "output_type": "execute_result"
    },
    {
     "data": {
      "image/png": "[encoded data removed]",
      "text/plain": [
       "<Figure size 432x288 with 1 Axes>"
      ]
     },
     "metadata": {
      "needs_background": "light"
     },
     "output_type": "display_data"
    }
   ],
   "source": [
    "total_acc/total_count\n",
    "\n",
    "plt.hist(outputs, bins=10)"
   ]
  },
  {
   "cell_type": "code",
   "execution_count": 12,
   "metadata": {},
   "outputs": [],
   "source": [
    "tmp = Counter(outputs.numpy())"
   ]
  },
  {
   "cell_type": "code",
   "execution_count": 13,
   "metadata": {},
   "outputs": [
    {
     "data": {
      "text/plain": [
       "10000"
      ]
     },
     "execution_count": 13,
     "metadata": {},
     "output_type": "execute_result"
    }
   ],
   "source": [
    "sum(tmp.values())"
   ]
  },
  {
   "cell_type": "code",
   "execution_count": 14,
   "metadata": {
    "scrolled": true
   },
   "outputs": [
    {
     "data": {
      "image/png": "[encoded data removed]",
      "text/plain": [
       "<Figure size 432x288 with 1 Axes>"
      ]
     },
     "metadata": {
      "needs_background": "light"
     },
     "output_type": "display_data"
    }
   ],
   "source": [
    "tmp = Counter(outputs.numpy())\n",
    "\n",
    "plt.plot([tmp[x]/sum(tmp.values()) for x in range(10)])\n",
    "plt.show()"
   ]
  },
  {
   "cell_type": "markdown",
   "metadata": {},
   "source": [
    "---\n",
    "\n",
    "# test"
   ]
  },
  {
   "cell_type": "code",
   "execution_count": 10,
   "metadata": {},
   "outputs": [],
   "source": [
    "test_dataset = mrdataset.MovieRateDataset(text_path='../test_data', label_path=None, sort_text=False)\n",
    "test_dataloader = DataLoader(test_dataset, batch_size=1024, collate_fn=test_dataset.collate_batch, shuffle=False)"
   ]
  },
  {
   "cell_type": "code",
   "execution_count": 27,
   "metadata": {
    "scrolled": false
   },
   "outputs": [
    {
     "name": "stderr",
     "output_type": "stream",
     "text": [
      "2it [00:00,  8.60it/s]"
     ]
    },
    {
     "name": "stdout",
     "output_type": "stream",
     "text": [
      "tensor([9, 9, 9,  ..., 9, 9, 9], device='cuda:0')\n"
     ]
    },
    {
     "name": "stderr",
     "output_type": "stream",
     "text": [
      "391it [00:38, 10.14it/s]\n"
     ]
    }
   ],
   "source": [
    "model.eval()\n",
    "\n",
    "outputs = []\n",
    "with torch.no_grad():\n",
    "    for i, (_, text, input_len) in tqdm(enumerate(test_dataloader)):\n",
    "        text = text.to(device)\n",
    "        input_len = input_len.to(input_len)\n",
    "\n",
    "        predited_label = model(text, input_len)\n",
    "\n",
    "        outputs.append(predited_label.argmax(1))\n",
    "        if i == 0 :\n",
    "            print(predited_label.argmax(1))\n",
    "\n",
    "outputs = torch.cat(outputs)"
   ]
  },
  {
   "cell_type": "code",
   "execution_count": 28,
   "metadata": {},
   "outputs": [
    {
     "data": {
      "image/png": "[encoded data removed]",
      "text/plain": [
       "<Figure size 432x288 with 1 Axes>"
      ]
     },
     "metadata": {
      "needs_background": "light"
     },
     "output_type": "display_data"
    },
    {
     "name": "stdout",
     "output_type": "stream",
     "text": [
      "Counter({9: 295735, 0: 46585, 7: 21423, 6: 17900, 5: 7551, 4: 5810, 8: 4364, 1: 318, 2: 178, 3: 136})\n"
     ]
    }
   ],
   "source": [
    "tmp = Counter(outputs.cpu().numpy())\n",
    "\n",
    "plt.plot([tmp[x]/sum(tmp.values()) for x in range(10)])\n",
    "plt.show()\n",
    "\n",
    "print(tmp)"
   ]
  },
  {
   "cell_type": "code",
   "execution_count": 20,
   "metadata": {
    "scrolled": true
   },
   "outputs": [
    {
     "data": {
      "image/png": "[encoded data removed]",
      "text/plain": [
       "<Figure size 432x288 with 1 Axes>"
      ]
     },
     "metadata": {
      "needs_background": "light"
     },
     "output_type": "display_data"
    }
   ],
   "source": [
    "tmp = Counter(outputs.cpu().numpy())\n",
    "\n",
    "plt.plot([tmp[x]/sum(tmp.values()) for x in range(10)])\n",
    "plt.show()"
   ]
  },
  {
   "cell_type": "code",
   "execution_count": 21,
   "metadata": {},
   "outputs": [
    {
     "data": {
      "text/plain": [
       "Counter({9: 309152,\n",
       "         0: 46407,\n",
       "         6: 16878,\n",
       "         4: 2581,\n",
       "         7: 14956,\n",
       "         5: 8755,\n",
       "         8: 852,\n",
       "         3: 99,\n",
       "         2: 187,\n",
       "         1: 133})"
      ]
     },
     "execution_count": 21,
     "metadata": {},
     "output_type": "execute_result"
    }
   ],
   "source": [
    "tmp"
   ]
  },
  {
   "cell_type": "code",
   "execution_count": 19,
   "metadata": {},
   "outputs": [
    {
     "data": {
      "text/plain": [
       "array([9, 9, 9, ..., 9, 9, 0])"
      ]
     },
     "execution_count": 19,
     "metadata": {},
     "output_type": "execute_result"
    }
   ],
   "source": [
    "outputs.cpu().numpy()"
   ]
  },
  {
   "cell_type": "code",
   "execution_count": 29,
   "metadata": {},
   "outputs": [],
   "source": [
    "import csv\n",
    "\n",
    "with open('bilstm.csv', 'w') as f:\n",
    "    wr = csv.writer(f)\n",
    "    wr.writerow(['ID','Prediction'])\n",
    "    for i, x in enumerate(outputs.cpu().numpy()):\n",
    "        wr.writerow([i,x+1])"
   ]
  },
  {
   "cell_type": "code",
   "execution_count": 25,
   "metadata": {},
   "outputs": [
    {
     "data": {
      "text/plain": [
       "('경찰청장 개OO끼', 1)"
      ]
     },
     "execution_count": 25,
     "metadata": {},
     "output_type": "execute_result"
    }
   ],
   "source": [
    "test_dataset[13]"
   ]
  },
  {
   "cell_type": "code",
   "execution_count": null,
   "metadata": {},
   "outputs": [],
   "source": []
  }
 ],
 "metadata": {
  "kernelspec": {
   "display_name": "glow-tts",
   "language": "python",
   "name": "glowtts"
  },
  "language_info": {
   "codemirror_mode": {
    "name": "ipython",
    "version": 3
   },
   "file_extension": ".py",
   "mimetype": "text/x-python",
   "name": "python",
   "nbconvert_exporter": "python",
   "pygments_lexer": "ipython3",
   "version": "3.6.9"
  }
 },
 "nbformat": 4,
 "nbformat_minor": 2
}
